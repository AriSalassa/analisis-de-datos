{
 "cells": [
  {
   "cell_type": "markdown",
   "source": [
    "# Guía 1"
   ],
   "metadata": {}
  },
  {
   "cell_type": "code",
   "execution_count": 3,
   "source": [
    "import numpy as np\n",
    "from scipy import stats\n",
    "import seaborn as sns"
   ],
   "outputs": [],
   "metadata": {}
  },
  {
   "cell_type": "markdown",
   "source": [
    "## Ejercicio 1"
   ],
   "metadata": {}
  },
  {
   "cell_type": "code",
   "execution_count": 17,
   "source": [
    "def curtosis(X):\n",
    "    N = len(X)\n",
    "    mu_hat = np.mean(X)\n",
    "    s = np.std(X)\n",
    "    \n",
    "    curtosis_out = (1/N) * np.sum(((X - mu_hat)/s)**4)\n",
    "\n",
    "    return curtosis_out"
   ],
   "outputs": [],
   "metadata": {}
  },
  {
   "cell_type": "code",
   "execution_count": 18,
   "source": [
    "def oblicuidad(X):\n",
    "    N = len(X)\n",
    "    mu_hat = np.mean(X)\n",
    "    s = np.std(X)\n",
    "    \n",
    "    oblicuidad_out = (1/N) * np.sum(((X - mu_hat)/s)**3)\n",
    "\n",
    "    return oblicuidad_out"
   ],
   "outputs": [],
   "metadata": {}
  },
  {
   "cell_type": "code",
   "execution_count": 48,
   "source": [
    "def iqr(X):\n",
    "    N = len(X)\n",
    "    X_ord = np.sort(X)\n",
    "    idx_25 = int(0.25*N) - 1\n",
    "    idx_75 = int(0.75*N) - 1\n",
    "\n",
    "    iqr = X_ord[idx_75] - X_ord[idx_25]\n",
    "\n",
    "    return iqr"
   ],
   "outputs": [],
   "metadata": {}
  },
  {
   "cell_type": "code",
   "execution_count": 44,
   "source": [
    "n = 100\n",
    "X = np.random.normal(size=n)"
   ],
   "outputs": [],
   "metadata": {}
  },
  {
   "cell_type": "code",
   "execution_count": 45,
   "source": [
    "curtosis_custom = curtosis(X)\n",
    "print(curtosis_custom)\n",
    "curtosis_scipy = stats.kurtosis(X, fisher=False)\n",
    "print(curtosis_scipy)\n",
    "print(f\"Cuarto momento exacto: {stats.norm.moment(4)}\")"
   ],
   "outputs": [
    {
     "output_type": "stream",
     "name": "stdout",
     "text": [
      "3.191851933804794\n",
      "3.191851933804794\n",
      "Cuarto momento exacto: 3.0\n"
     ]
    }
   ],
   "metadata": {}
  },
  {
   "cell_type": "code",
   "execution_count": 46,
   "source": [
    "oblicuidad_custom = oblicuidad(X)\n",
    "print(oblicuidad_custom)\n",
    "oblicuidad_scipy = stats.skew(X)\n",
    "print(oblicuidad_scipy)\n",
    "print(f\"Tercer momento exacto: {stats.norm.moment(3)}\")"
   ],
   "outputs": [
    {
     "output_type": "stream",
     "name": "stdout",
     "text": [
      "-0.28529251344121437\n",
      "-0.28529251344121453\n",
      "Tercer momento exacto: 0.0\n"
     ]
    }
   ],
   "metadata": {}
  },
  {
   "cell_type": "code",
   "execution_count": 49,
   "source": [
    "iqr_custom = iqr(X)\n",
    "print(iqr_custom)\n",
    "iqr_scipy = stats.iqr(X)\n",
    "print(iqr_scipy)"
   ],
   "outputs": [
    {
     "output_type": "stream",
     "name": "stdout",
     "text": [
      "1.4393444698209572\n",
      "1.4026513489049557\n"
     ]
    }
   ],
   "metadata": {}
  },
  {
   "cell_type": "code",
   "execution_count": 29,
   "source": [
    "sns.set_theme(style=\"whitegrid\")\n",
    "ax = sns.boxplot(x=X)"
   ],
   "outputs": [
    {
     "output_type": "display_data",
     "data": {
      "text/plain": [
       "<Figure size 432x288 with 1 Axes>"
      ],
      "image/png": "[encoded data removed]"
     },
     "metadata": {}
    }
   ],
   "metadata": {}
  },
  {
   "cell_type": "markdown",
   "source": [
    "## Ejercicio 2"
   ],
   "metadata": {}
  },
  {
   "cell_type": "code",
   "execution_count": 51,
   "source": [
    "n = 100\n",
    "lambda_exp = 1\n",
    "X = np.random.exponential(scale=1/lambda_exp, size=n)"
   ],
   "outputs": [],
   "metadata": {}
  },
  {
   "cell_type": "code",
   "execution_count": 52,
   "source": [
    "curtosis_custom = curtosis(X)\n",
    "print(curtosis_custom)\n",
    "curtosis_scipy = stats.kurtosis(X, fisher=False)\n",
    "print(curtosis_scipy)\n",
    "print(f\"Cuarto momento exacto: {stats.expon.moment(4)}\")\n",
    "print(\"Curtosis exponencial: 9\")"
   ],
   "outputs": [
    {
     "output_type": "stream",
     "name": "stdout",
     "text": [
      "8.934890010267848\n",
      "8.93489001026785\n",
      "Cuarto momento exacto: 24.0\n",
      "Curtosis exponencial: 9\n"
     ]
    }
   ],
   "metadata": {}
  },
  {
   "cell_type": "code",
   "execution_count": 53,
   "source": [
    "oblicuidad_custom = oblicuidad(X)\n",
    "print(oblicuidad_custom)\n",
    "oblicuidad_scipy = stats.skew(X)\n",
    "print(oblicuidad_scipy)\n",
    "print(f\"Tercer momento exacto: {stats.expon.moment(3)}\")\n",
    "print(\"Oblicuidad exponencial: 2\")"
   ],
   "outputs": [
    {
     "output_type": "stream",
     "name": "stdout",
     "text": [
      "2.180581544251374\n",
      "2.1805815442513743\n",
      "Tercer momento exacto: 6.0\n",
      "Oblicuidad exponencial: 2\n"
     ]
    }
   ],
   "metadata": {}
  },
  {
   "cell_type": "code",
   "execution_count": 40,
   "source": [
    "iqr_custom = iqr(X)\n",
    "print(iqr_custom)\n",
    "iqr_scipy = stats.iqr(X)\n",
    "print(iqr_scipy)"
   ],
   "outputs": [
    {
     "output_type": "stream",
     "name": "stdout",
     "text": [
      "0.8342576011473237\n",
      "0.8346254161774049\n"
     ]
    }
   ],
   "metadata": {}
  },
  {
   "cell_type": "code",
   "execution_count": 41,
   "source": [
    "sns.set_theme(style=\"whitegrid\")\n",
    "ax = sns.boxplot(x=X)"
   ],
   "outputs": [
    {
     "output_type": "display_data",
     "data": {
      "text/plain": [
       "<Figure size 432x288 with 1 Axes>"
      ],
      "image/png": "[encoded data removed]"
     },
     "metadata": {}
    }
   ],
   "metadata": {}
  },
  {
   "cell_type": "markdown",
   "source": [
    "## Ejercicio 3"
   ],
   "metadata": {}
  },
  {
   "cell_type": "code",
   "execution_count": null,
   "source": [],
   "outputs": [],
   "metadata": {}
  }
 ],
 "metadata": {
  "orig_nbformat": 4,
  "language_info": {
   "name": "python",
   "version": "3.8.8",
   "mimetype": "text/x-python",
   "codemirror_mode": {
    "name": "ipython",
    "version": 3
   },
   "pygments_lexer": "ipython3",
   "nbconvert_exporter": "python",
   "file_extension": ".py"
  },
  "kernelspec": {
   "name": "python3",
   "display_name": "Python 3.8.8 64-bit ('base': conda)"
  },
  "interpreter": {
   "hash": "00dfc0830a513947b60a95c876dfb43a1534c820f0c320933420ad340a02dc2c"
  }
 },
 "nbformat": 4,
 "nbformat_minor": 2
}